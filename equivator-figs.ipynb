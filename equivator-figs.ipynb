{
 "cells": [
  {
   "cell_type": "code",
   "execution_count": 1,
   "id": "f8ebf5cb-1d47-4c95-8566-9154f9c35ee8",
   "metadata": {},
   "outputs": [
    {
     "name": "stdout",
     "output_type": "stream",
     "text": [
      "Failed to load neighbors_convert.so: /home/michele/local/venvs/default/lib/python3.12/site-packages/pet/neighbors_convert.so: undefined symbol: _ZN2at23SavedTensorDefaultHooks11set_tracingEb\n"
     ]
    }
   ],
   "source": [
    "from pet.utilities import get_quadrature\n",
    "import numpy as np\n",
    "import matplotlib as mpl\n",
    "import matplotlib.pyplot as plt\n",
    "from mpl_toolkits.axes_grid1.inset_locator import inset_axes\n",
    "import chemiscope\n",
    "import ase, ase.io\n",
    "import cmocean\n",
    "import ipi\n",
    "\n",
    "ha2ev = 27.211386"
   ]
  },
  {
   "cell_type": "code",
   "execution_count": 2,
   "id": "5da47a13-82b9-4fb8-823f-fefab63abdf1",
   "metadata": {},
   "outputs": [],
   "source": [
    "# define ~design~\n",
    "\n",
    "cmap = cmocean.cm.balance\n",
    "\n",
    "# we mostly only need two colors. let's go with good old black and red\n",
    "red = \"#F64422\"\n",
    "blue = \"black\"\n",
    "extra = \"#0077BB\"  # actual blue in case black makes no sense\n",
    "\n",
    "\n",
    "# LaTeX time\n",
    "plt.rcParams.update({\n",
    "    \"text.usetex\": True,\n",
    "    \"font.size\": 11,\n",
    "})\n",
    "\n",
    "# Helvetica lookalike with fitting math fonts\n",
    "plt.rcParams['text.latex.preamble'] = r\"\"\"\n",
    "\\usepackage{tgheros}\n",
    "\\usepackage{sansmath}\n",
    "\\sansmath\n",
    "% adjust spacing on Å (sigh)\n",
    "\\usepackage{stackengine}\n",
    "\\def\\AA{\\stackinset{c}{0.05pt}{t}{-1.84pt}{\\r{}}{A}}\n",
    "\"\"\"\n"
   ]
  },
  {
   "cell_type": "markdown",
   "id": "c5647911-12f4-4e4f-a1c5-7ebdf1f7a079",
   "metadata": {},
   "source": [
    "# Fig. 1 - Molecule\n",
    "\n",
    "This figure contains:\n",
    "\n",
    "(a) the angular momentum trajectory for a water molecule in vacuum, from a converged PET model (PET3 in our language) and a L=2i augmentation (36 rotations)\n",
    "\n",
    "(b) inset with the mean magnitude of the torque, for different levels of augmentation\n",
    "\n",
    "(c) power spectrum of the overall potential, and of the non-equivariant part\n",
    "\n",
    "(d-e) absolute orientation FES"
   ]
  },
  {
   "cell_type": "code",
   "execution_count": 3,
   "id": "fff65d6a-f541-4bb9-8f33-18023975ef18",
   "metadata": {},
   "outputs": [],
   "source": [
    "# loads NVE trajectory of molecule\n",
    "nve_pet3 = np.loadtxt(\"data/nve_pet3.dat\")\n",
    "nve_pet3_2i = np.loadtxt(\"data/nve_pet3-aug2i.dat\")"
   ]
  },
  {
   "cell_type": "code",
   "execution_count": 4,
   "id": "74ec5db3-63e7-40ff-9ccb-f42963b7753b",
   "metadata": {},
   "outputs": [],
   "source": [
    "# loads the data for the convergence of the rotational augmentation\n",
    "augs = {\"0\":1, \"i\": 2, \"2\" : 18, \"2i\": 36, \"3\" : 75, \"3i\": 150} # \"label\" : n_rotations\n",
    "torque = {}\n",
    "for a in augs:\n",
    "    data = np.loadtxt(f\"data/mm-{a}.dat\")\n",
    "    torque[a] = np.sqrt( (data[:,5:8]**2).sum(axis=1).mean() )   "
   ]
  },
  {
   "cell_type": "code",
   "execution_count": 5,
   "id": "c1ee0b2b-03f7-4b28-addd-4179400b719b",
   "metadata": {},
   "outputs": [],
   "source": [
    "# loads the FT of the power spectrum. units here are fs^-1 and hartree^2 so we convert to cm^-1 and eV^2\n",
    "ps_pet3delta = np.loadtxt(\"data/nve_pet3-delta_powerspec.dat\") * np.array([5308.8375, 740.45954, 740.45954])[np.newaxis,:]\n",
    "# slight smoothing\n",
    "ps_pet3delta[:-2] = (ps_pet3delta[:-2]*0.5 + ps_pet3delta[1:-1] + ps_pet3delta[2:]*0.5) / 2\n",
    "ps_pet3delta = ps_pet3delta[::4]"
   ]
  },
  {
   "cell_type": "code",
   "execution_count": 6,
   "id": "34bf7419-0220-429e-8809-c3c8da7091b4",
   "metadata": {},
   "outputs": [],
   "source": [
    "# loads the polar histograms\n",
    "pol_pet3 = np.loadtxt(\"data/pfes_pet3.dat\")\n",
    "pol_pet32i = np.loadtxt(\"data/pfes_pet3-2i.dat\")"
   ]
  },
  {
   "cell_type": "code",
   "execution_count": 7,
   "id": "1ca6df18-c7ab-4227-a716-22b966abcc6f",
   "metadata": {},
   "outputs": [],
   "source": [
    "fig, ax = plt.subplot_mosaic(\n",
    "    \"\"\"\n",
    "    AA\n",
    "    BB\n",
    "    CC\n",
    "    DE\n",
    "    \"\"\",\n",
    "    figsize=(5,8),\n",
    "    height_ratios=[2,1,2,2.5],\n",
    "    constrained_layout=True)\n",
    "\n",
    "# momentum \n",
    "\n",
    "ax[\"A\"].plot(nve_pet3_2i[:,0],nve_pet3_2i[:,2]*1e3, ':', color=blue)\n",
    "ax[\"A\"].plot(nve_pet3_2i[:,0],nve_pet3_2i[:,3]*1e3, ':', color=blue)\n",
    "ax[\"A\"].plot(nve_pet3_2i[:,0],nve_pet3_2i[:,4]*1e3, ':', color=blue)\n",
    "ax[\"A\"].plot(nve_pet3_2i[:,0],np.sqrt((nve_pet3_2i[:,2:5]**2).sum(axis=1))*1e3, label=r\"PET, 2i avg.\", color=blue, linewidth=3)\n",
    "\n",
    "ax[\"A\"].plot(nve_pet3[:,0],nve_pet3[:,2]*1e3, ':', color=red)\n",
    "ax[\"A\"].plot(nve_pet3[:,0],nve_pet3[:,3]*1e3, ':', color=red)\n",
    "ax[\"A\"].plot(nve_pet3[:,0],nve_pet3[:,4]*1e3, ':', color=red)\n",
    "ax[\"A\"].plot(nve_pet3[:,0],np.sqrt((nve_pet3[:,2:5]**2).sum(axis=1))*1e3, label=\"PET, no avg.\", color=red)\n",
    "\n",
    "ax[\"A\"].set_xlabel(r\"$t$ (ps)\")\n",
    "ax[\"A\"].set_ylabel(r\"$L_{\\alpha}, |L|$ (eV fs)\")\n",
    "\n",
    "handles, labels = ax[\"A\"].get_legend_handles_labels()\n",
    "ax[\"A\"].legend(handles[::-1], labels[::-1], loc='lower right', ncol=2, framealpha=0.5)  # reverse order\n",
    "ax[\"A\"].set_xlim(-1,25)\n",
    "ax[\"A\"].set_ylim(-5.5, 3.5)\n",
    "\n",
    "ax['A'].text(-0.2,-4.9, r\"\\textbf {\\large a}\")\n",
    "\n",
    "# torque convergence with augmentation\n",
    "# no longer using inset due to reviewer comments\n",
    "# ax0_pos = [0.55,0.55,0.44,0.33]\n",
    "# ax0_inset = ax[\"A\"].inset_axes(ax0_pos)\n",
    "# ax[\"A\"].add_patch(\n",
    "#     mpl.patches.Rectangle((ax0_pos[0]-0.16,ax0_pos[1]-0.25), ax0_pos[2]+0.23, ax0_pos[3]+0.26,\n",
    "#                           color='white', alpha=0.7, transform=ax[\"A\"].transAxes, zorder=4)\n",
    "# )\n",
    "\n",
    "# ax0_inset.loglog([augs[a] for a in augs], [torque[a] for a in augs], 'k--*')\n",
    "# ax0_inset.set_ylabel(r\"$\\langle |\\tau|\\rangle$ (eV)\", labelpad=0)\n",
    "# ax0_inset.set_xlabel(r\"Averaging grid\", labelpad=0)\n",
    "# ax0_inset.set_xticks(list(augs.values()))\n",
    "# ax0_inset.set_xticklabels([r\"$\\mathrm{\" + k + r\"}$\" for k in list(augs.keys())])\n",
    "# ax0_inset.xaxis.set_minor_locator(plt.NullLocator())\n",
    "\n",
    "ax['B'].loglog([augs[a] for a in augs], [torque[a] for a in augs], 'k--*')\n",
    "ax['B'].set_ylabel(r\"$\\langle |\\tau|\\rangle$ (eV)\", labelpad=0)\n",
    "ax['B'].set_xlabel(r\"Averaging grid\", labelpad=0)\n",
    "ax['B'].set_xticks(list(augs.values()))\n",
    "ax['B'].set_xticklabels([r\"$\\mathrm{\" + k + r\"}$\" for k in list(augs.keys())])\n",
    "ax['B'].xaxis.set_minor_locator(plt.NullLocator())\n",
    "\n",
    "ax['B'].text(0.035, 0.13, r\"\\textbf {\\large b}\", transform=ax['B'].transAxes)\n",
    "\n",
    "ax['C'].semilogy(ps_pet3delta[:,0], ps_pet3delta[:,1], '-', label=\"PET\", color=red, linewidth=2.5)\n",
    "ax['C'].semilogy(ps_pet3delta[:,0], ps_pet3delta[:,2], linestyle=\"solid\", label=r\"$\\mathrm{\\Delta}$PET\", color=blue)\n",
    "ax['C'].set_xlabel(r\"$\\omega$ (cm$^{-1}$)\")\n",
    "ax['C'].set_ylabel(r\"$c_{VV}$ (eV$^2$)\")\n",
    "ax['C'].legend()\n",
    "ax['C'].text(0.035, 0.075, r\"\\textbf {\\large c}\", transform=ax['C'].transAxes)\n",
    "\n",
    "xgrid = np.linspace(-1,1,pol_pet3.shape[0])\n",
    "ygrid = np.linspace(0,2*np.pi,pol_pet3.shape[1])\n",
    "ctrD=ax['D'].pcolormesh(xgrid, ygrid, -np.log(pol_pet3.T), vmin=-0.4, vmax=0.4, cmap=cmap, rasterized=\"True\")\n",
    "ctrE=ax['E'].pcolormesh(xgrid, ygrid, -np.log(pol_pet32i.T), vmin=-0.4, vmax=0.4, cmap=cmap, rasterized=\"True\")\n",
    "ax['E'].sharey(ax['D'])\n",
    "ax['E'].tick_params(labelleft=False)\n",
    "ax['D'].set_xlabel(r\"$\\cos\\theta$\")\n",
    "ax['E'].set_xlabel(r\"$\\cos\\theta$\")\n",
    "ax['D'].set_ylabel(r\"$\\phi$\")\n",
    "cbar = fig.colorbar(ctrD, ax=[ax['D'], ax['E']], orientation='horizontal', aspect=20)\n",
    "cbar.ax.set_ylabel(r\"$F$ / $k_{\\mathrm{B}} T$\", rotation=0, labelpad=25, verticalalignment='center')\n",
    "custom_ticks = np.linspace(-0.4, 0.4, 5)  # Example: five evenly spaced ticks\n",
    "custom_labels = [f\"${tick:.2f}$\" for tick in custom_ticks]  # Custom labels as formatted strings\n",
    "cbar.set_ticks(custom_ticks)\n",
    "cbar.set_ticklabels(custom_labels)\n",
    "\n",
    "custom_ticks = [np.pi*i for i in np.linspace(0, 2, 3)]\n",
    "custom_labels = [\"0\", r\"$\\pi$\", r\"$2\\pi$\"]\n",
    "ax[\"D\"].set_yticks(custom_ticks)\n",
    "ax[\"D\"].set_yticklabels(custom_labels)\n",
    "\n",
    "labelbox=dict(facecolor='white', alpha=0.8, edgecolor='none', boxstyle='square,pad=0.2')\n",
    "\n",
    "fig.text(0.165,0.147, r\"\\textbf {\\large d}\", bbox=labelbox)\n",
    "fig.text(0.61,0.147, r\"\\textbf {\\large e}\", bbox=labelbox)\n",
    "\n",
    "fig.savefig('figures/molecule.pdf')\n",
    "fig.savefig('figures/molecule.svg')"
   ]
  },
  {
   "cell_type": "markdown",
   "id": "586a0e6d-7173-448e-9cfe-8dee75fd3a2f",
   "metadata": {},
   "source": [
    "# Bulk statics"
   ]
  },
  {
   "cell_type": "code",
   "execution_count": 8,
   "id": "e86d998b-5d66-4e8d-bd73-af5163da7068",
   "metadata": {},
   "outputs": [],
   "source": [
    "# loads the polar histograms\n",
    "bulk_pol_pet3 = np.loadtxt(\"data/bulk_pfes_pet3.dat\")\n",
    "bulk_pol_pet32i = np.loadtxt(\"data/bulk_pfes_pet3-2i.dat\")"
   ]
  },
  {
   "cell_type": "code",
   "execution_count": 9,
   "id": "46743301-60bd-4b61-b2eb-249d999e389b",
   "metadata": {},
   "outputs": [],
   "source": [
    "# loads the correlation data\n",
    "bulk_corr_pet3 = np.loadtxt(\"data/bulk_corr_pet3.dat\")\n",
    "bulk_corr_pet32i = np.loadtxt(\"data/bulk_corr_pet3-2i.dat\")"
   ]
  },
  {
   "cell_type": "code",
   "execution_count": 10,
   "id": "b38af7fe-0fd9-4af8-8b07-5fe8330f42f6",
   "metadata": {},
   "outputs": [],
   "source": [
    "fig, ax = plt.subplot_mosaic(\n",
    "    \"\"\"\n",
    "    AB\n",
    "    CC\n",
    "    DD\n",
    "    \"\"\"\n",
    "    ,figsize=(5,7),\n",
    "    constrained_layout=True)\n",
    "\n",
    "xgrid = np.linspace(-1,1,bulk_pol_pet3.shape[0])\n",
    "ygrid = np.linspace(0,2*np.pi,bulk_pol_pet3.shape[1])\n",
    "ctrA=ax['A'].pcolormesh(xgrid, ygrid, -np.log(bulk_pol_pet3.T), vmin=-0.4, vmax=0.4, cmap=cmap, rasterized=\"True\")\n",
    "ctrB=ax['B'].pcolormesh(xgrid, ygrid, -np.log(bulk_pol_pet32i.T), vmin=-0.4, vmax=0.4, cmap=cmap, rasterized=\"True\")\n",
    "ax['B'].sharey(ax['A'])\n",
    "ax['B'].tick_params(labelleft=False)\n",
    "ax['A'].set_xlabel(r\"$\\cos\\theta$\")\n",
    "ax['B'].set_xlabel(r\"$\\cos\\theta$\")\n",
    "ax['A'].set_ylabel(r\"$\\phi$\")\n",
    "\n",
    "custom_ticks = [np.pi*i for i in np.linspace(0, 2, 3)]\n",
    "custom_labels = [\"0\", r\"$\\pi$\", r\"$2\\pi$\"]\n",
    "ax[\"A\"].set_yticks(custom_ticks)\n",
    "ax[\"A\"].set_yticklabels(custom_labels)\n",
    "\n",
    "\n",
    "cbar = fig.colorbar(ctrA, ax=[ax['A'], ax['B']], orientation='horizontal', aspect=20)\n",
    "cbar.ax.set_ylabel(r\"$F$ / $k_{\\mathrm{B}} T$\", rotation=0, labelpad=25, verticalalignment='center') \n",
    "custom_ticks = np.linspace(-0.4, 0.4, 5)  # Example: five evenly spaced ticks\n",
    "custom_labels = [f\"{tick:.2f}\" for tick in custom_ticks]  # Custom labels as formatted strings\n",
    "cbar.set_ticks(custom_ticks)\n",
    "cbar.set_ticklabels(custom_labels)\n",
    "\n",
    "ax[\"C\"].plot(bulk_corr_pet3[:,0], bulk_corr_pet3[:,1], '-', label=\"PET\", color=red, linewidth=4.0)\n",
    "ax[\"C\"].plot(bulk_corr_pet32i[:,0], bulk_corr_pet32i[:,1], label=r\"PET, 2i avg.\", color=blue, linestyle=\"dashed\", linewidth=1.25)\n",
    "ax[\"C\"].set_xlabel(r\"$r$ (\\AA)\")\n",
    "ax[\"C\"].set_ylabel(r\"$g_{\\mathrm{OO}}(r)$\")\n",
    "ax[\"C\"].set_xlim(2,8)\n",
    "ax[\"C\"].legend()\n",
    "\n",
    "ax[\"D\"].plot(bulk_corr_pet3[:,0], bulk_corr_pet3[:,3]/bulk_corr_pet3[:,1], '-', label=\"PET\", color=red, linewidth=4.0)\n",
    "ax[\"D\"].plot(bulk_corr_pet32i[:,0], bulk_corr_pet32i[:,3]/bulk_corr_pet32i[:,1], label=r\"PET, 2i avg.\", color=blue, linewidth=1.25)\n",
    "ax[\"D\"].plot(bulk_corr_pet3[:,0], bulk_corr_pet3[:,5]/bulk_corr_pet3[:,1], '--', color=red, linewidth=3.5)\n",
    "ax[\"D\"].plot(bulk_corr_pet32i[:,0], bulk_corr_pet32i[:,5]/bulk_corr_pet32i[:,1], color=blue, linewidth=1.25, dashes=[3,1])\n",
    "ax[\"D\"].set_xlabel(r'$r$ (\\AA)')\n",
    "ax[\"D\"].set_ylabel(r\"$c_{uu}(r)$\")\n",
    "ax[\"D\"].set_xlim(2,8)\n",
    "ax[\"D\"].set_ylim(-0.15,0.4)\n",
    "ax[\"D\"].legend()\n",
    "gray_line = mpl.lines.Line2D([0], [0], color='gray', linewidth=2, linestyle='-', label='$c^L_{uu}$')\n",
    "gray_dash = mpl.lines.Line2D([0], [0], color='gray', linewidth=2, linestyle='--', label='$c^T_{uu}$')\n",
    "handles, labels = ax[\"D\"].get_legend_handles_labels()\n",
    "handles.extend([gray_line, gray_dash])\n",
    "labels.extend([gray_line.get_label(), gray_dash.get_label()])\n",
    "ax[\"D\"].legend(handles, labels, ncols=2)\n",
    "\n",
    "labelbox=dict(facecolor='white', alpha=0.8, edgecolor='none', boxstyle='square,pad=0.2')\n",
    "fig.text(0.15,0.78, r\"\\textbf{\\large a}\", fontweight='bold', fontsize=11, bbox=labelbox)\n",
    "fig.text(0.6,0.78, r\"\\textbf{\\large b}\", fontweight='bold', fontsize=11, bbox=labelbox)\n",
    "fig.text(0.15,0.42, r\"\\textbf{\\large c}\", fontweight='bold', fontsize=11, bbox=labelbox)\n",
    "fig.text(0.15,0.085, r\"\\textbf{\\large d}\", fontweight='bold', fontsize=11, bbox=labelbox)\n",
    "\n",
    "fig.savefig('figures/bulk-static.pdf')\n",
    "fig.savefig('figures/bulk-static.svg')"
   ]
  },
  {
   "cell_type": "markdown",
   "id": "6d4ed37f-7949-4c32-9dab-944af23e38dd",
   "metadata": {},
   "source": [
    "# Time dependent bulk"
   ]
  },
  {
   "cell_type": "code",
   "execution_count": 11,
   "id": "78965a0f-338a-4584-be3b-93178025d691",
   "metadata": {},
   "outputs": [],
   "source": [
    "bulk_tcorr_pet3 = np.loadtxt(\"data/bulk_tcorr_pet3.dat\")\n",
    "bulk_tcorr_pet32i = np.loadtxt(\"data/bulk_tcorr_pet3-2i.dat\")"
   ]
  },
  {
   "cell_type": "code",
   "execution_count": 12,
   "id": "3b3c0fe8-fbe0-46f6-8fbb-5e8195c3ad18",
   "metadata": {},
   "outputs": [],
   "source": [
    "fig, ax = plt.subplot_mosaic(\n",
    "    \"\"\"\n",
    "    A\n",
    "    B\n",
    "    \"\"\"\n",
    "    ,figsize=(5,3.5),sharex=True,\n",
    "    constrained_layout=True)\n",
    "\n",
    "# ax[\"A\"].fill_between(bulk_tcorr_pet3[:,0]/1000, \n",
    "#                      bulk_tcorr_pet3[:,1]-2*bulk_tcorr_pet3[:,2],\n",
    "#                      bulk_tcorr_pet3[:,1]+2*bulk_tcorr_pet3[:,2],\n",
    "#                      color=red, edgecolor='none', alpha=0.5)\n",
    "# ax[\"A\"].fill_between(bulk_tcorr_pet32i[:,0]/1000, \n",
    "#                      bulk_tcorr_pet32i[:,1]-2*bulk_tcorr_pet32i[:,2],\n",
    "#                      bulk_tcorr_pet32i[:,1]+2*bulk_tcorr_pet32i[:,2],\n",
    "#                      color=extra, edgecolor='none', alpha=0.5)\n",
    "\n",
    "ax[\"A\"].plot(bulk_tcorr_pet3[:,0]/1000, bulk_tcorr_pet3[:,1], '-', label=\"PET\", color=red, linewidth=4.0)\n",
    "ax[\"A\"].plot(bulk_tcorr_pet32i[:,0]/1000, bulk_tcorr_pet32i[:,1], label=r\"PET, 2i avg.\", color=blue, linestyle=\"dashed\", linewidth=1.5)\n",
    "#ax[\"A\"].set_xlabel(r\"$t$ / ps\")\n",
    "ax[\"A\"].set_ylabel(r\"MSD$(t)$  (\\AA$^2$)\")\n",
    "ax[\"A\"].set_xlim(0,5)\n",
    "ax[\"A\"].legend()\n",
    "\n",
    "# ax[\"B\"].fill_between(bulk_tcorr_pet3[:,0]/1000, \n",
    "#                      bulk_tcorr_pet3[:,3]-2*bulk_tcorr_pet3[:,4],\n",
    "#                      bulk_tcorr_pet3[:,3]+2*bulk_tcorr_pet3[:,4],\n",
    "#                      color=red, edgecolor='none', alpha=0.5)\n",
    "# ax[\"B\"].fill_between(bulk_tcorr_pet32i[:,0]/1000, \n",
    "#                      bulk_tcorr_pet32i[:,3]-2*bulk_tcorr_pet32i[:,4],\n",
    "#                      bulk_tcorr_pet32i[:,3]+2*bulk_tcorr_pet32i[:,4],\n",
    "#                      color=extra, edgecolor='none', alpha=0.5)\n",
    "\n",
    "ax[\"B\"].plot(bulk_tcorr_pet3[:,0]/1000, bulk_tcorr_pet3[:,3], label=\"PET\", linewidth=4.0, color=red)\n",
    "ax[\"B\"].plot(bulk_tcorr_pet32i[:,0]/1000, bulk_tcorr_pet32i[:,3], label=r\"PET, 2i avg.\", color=blue, linestyle=\"dashed\", linewidth=1.5)\n",
    "ax[\"B\"].set_xlabel(r\"$t$ (ps)\")\n",
    "ax[\"B\"].set_ylabel(r\"$c_{\\mathbf{uu}}(t)$\")\n",
    "ax[\"B\"].set_xlim(0,10)\n",
    "ax[\"B\"].set_ylim(-0.05,1.05)\n",
    "#ax[\"B\"].legend()\n",
    "\n",
    "fig.savefig('figures/bulk-dyn.pdf')\n",
    "fig.savefig('figures/bulk-dyn.svg')"
   ]
  },
  {
   "cell_type": "markdown",
   "id": "98575cd8-5011-4907-ba93-592df2026340",
   "metadata": {},
   "source": [
    "# random run vs averaged"
   ]
  },
  {
   "cell_type": "code",
   "execution_count": 13,
   "id": "dfa8ef8b-dc29-4205-9676-22b5606fb81e",
   "metadata": {},
   "outputs": [],
   "source": [
    "# loads the polar histograms\n",
    "bulk_pol_pet3 = np.loadtxt(\"data/bulk_pfes_pet3.dat\")\n",
    "bulk_pol_pet3rnd = np.loadtxt(\"data/bulk_pfes_pet3rnd.dat\")\n",
    "bulk_pol_pet32i = np.loadtxt(\"data/bulk_pfes_pet3-2i.dat\")"
   ]
  },
  {
   "cell_type": "code",
   "execution_count": 14,
   "id": "30a5f14c-3fe1-43a7-90e9-a74c37d71f04",
   "metadata": {},
   "outputs": [],
   "source": [
    "# loads the correlation data\n",
    "bulk_corr_pet3 = np.loadtxt(\"data/bulk_corr_pet3.dat\")\n",
    "bulk_corr_pet3rnd = np.loadtxt(\"data/bulk_corr_pet3rnd.dat\")\n",
    "bulk_corr_pet32i = np.loadtxt(\"data/bulk_corr_pet3-2i.dat\")"
   ]
  },
  {
   "cell_type": "code",
   "execution_count": 15,
   "id": "c888dc09-0702-49b0-a9fb-7e55db625814",
   "metadata": {},
   "outputs": [],
   "source": [
    "bulk_tcorr_pet3 = np.loadtxt(\"data/bulk_tcorr_pet3.dat\")\n",
    "bulk_tcorr_pet3rnd = np.loadtxt(\"data/bulk_tcorr_pet3rnd.dat\")\n",
    "bulk_tcorr_pet32i = np.loadtxt(\"data/bulk_tcorr_pet3-2i.dat\")"
   ]
  },
  {
   "cell_type": "code",
   "execution_count": 16,
   "id": "52d34b00-81bc-4bac-a64f-495d42e5910b",
   "metadata": {},
   "outputs": [],
   "source": [
    "fig, ax = plt.subplot_mosaic(\n",
    "    \"\"\"\n",
    "    AB\n",
    "    CC\n",
    "    DD\n",
    "    \"\"\"\n",
    "    ,figsize=(5,7),\n",
    "    constrained_layout=True)\n",
    "\n",
    "xgrid = np.linspace(-1,1,bulk_pol_pet3rnd.shape[0])\n",
    "ygrid = np.linspace(0,2*np.pi,bulk_pol_pet3rnd.shape[1])\n",
    "ctrA=ax['A'].pcolormesh(xgrid, ygrid, -np.log(bulk_pol_pet3rnd.T), vmin=-0.4, vmax=0.4, cmap=cmap, rasterized=\"True\")\n",
    "ctrB=ax['B'].pcolormesh(xgrid, ygrid, -np.log(bulk_pol_pet32i.T), vmin=-0.4, vmax=0.4, cmap=cmap, rasterized=\"True\")\n",
    "ax['B'].sharey(ax['A'])\n",
    "ax['B'].tick_params(labelleft=False)\n",
    "ax['A'].set_xlabel(r\"$\\cos\\theta$\")\n",
    "ax['B'].set_xlabel(r\"$\\cos\\theta$\")\n",
    "ax['A'].set_ylabel(r\"$\\phi$\")\n",
    "\n",
    "custom_ticks = [np.pi*i for i in np.linspace(0, 2, 3)]\n",
    "custom_labels = [\"0\", r\"$\\pi$\", r\"$2\\pi$\"]\n",
    "ax[\"A\"].set_yticks(custom_ticks)\n",
    "ax[\"A\"].set_yticklabels(custom_labels)\n",
    "\n",
    "cbar = fig.colorbar(ctrA, ax=[ax['A'], ax['B']], orientation='horizontal', aspect=20)\n",
    "cbar.ax.set_ylabel(r\"$F$ / $k_{\\mathrm{B}} T$\", rotation=0, labelpad=25, verticalalignment='center') \n",
    "custom_ticks = np.linspace(-0.4, 0.4, 5)  # Example: five evenly spaced ticks\n",
    "custom_labels = [f\"{tick:.2f}\" for tick in custom_ticks]  # Custom labels as formatted strings\n",
    "cbar.set_ticks(custom_ticks)\n",
    "cbar.set_ticklabels(custom_labels)\n",
    "\n",
    "ax[\"C\"].plot(bulk_corr_pet3rnd[:,0], bulk_corr_pet3rnd[:,1], label=\"PET, rnd\", color=red, linewidth=4)\n",
    "ax[\"C\"].plot(bulk_corr_pet32i[:,0], bulk_corr_pet32i[:,1], label=r\"PET, 2i avg.\", color=blue, linestyle=\"dashed\", linewidth=1.25)\n",
    "ax[\"C\"].set_xlabel(r\"$r$ (\\AA)\")\n",
    "ax[\"C\"].set_ylabel(r\"$g_{\\mathrm{OO}}(r)$\")\n",
    "ax[\"C\"].set_xlim(2,8)\n",
    "ax[\"C\"].legend()\n",
    "\n",
    "ax[\"D\"].plot(bulk_corr_pet3rnd[:,0], bulk_corr_pet3rnd[:,3]/bulk_corr_pet3rnd[:,1], '-', label=\"PET, rnd\", color=red, linewidth=4)\n",
    "ax[\"D\"].plot(bulk_corr_pet32i[:,0], bulk_corr_pet32i[:,3]/bulk_corr_pet32i[:,1], label=r\"PET, 2i avg.\", color=blue, linewidth=1.25)\n",
    "ax[\"D\"].plot(bulk_corr_pet3rnd[:,0], bulk_corr_pet3rnd[:,5]/bulk_corr_pet3rnd[:,1], '--', linewidth=3.5, color=red)\n",
    "ax[\"D\"].plot(bulk_corr_pet32i[:,0], bulk_corr_pet32i[:,5]/bulk_corr_pet32i[:,1], linewidth=1.25, dashes=[3,1], color=blue)\n",
    "ax[\"D\"].set_xlabel(r\"$r$ (\\AA)\")\n",
    "ax[\"D\"].set_ylabel(r\"$c_{uu}(r)$\")\n",
    "ax[\"D\"].set_xlim(2,8)\n",
    "ax[\"D\"].set_ylim(-0.15,0.4)\n",
    "ax[\"D\"].legend()\n",
    "gray_line = mpl.lines.Line2D([0], [0], color='gray', linewidth=2, linestyle='-', label='$c^L_{uu}$')\n",
    "gray_dash = mpl.lines.Line2D([0], [0], color='gray', linewidth=2, linestyle='--', label='$c^T_{uu}$')\n",
    "handles, labels = ax[\"D\"].get_legend_handles_labels()\n",
    "handles.extend([gray_line, gray_dash])\n",
    "labels.extend([gray_line.get_label(), gray_dash.get_label()])\n",
    "ax[\"D\"].legend(handles, labels, ncols=2)\n",
    "\n",
    "labelbox=dict(facecolor='white', alpha=0.8, edgecolor='none', boxstyle='square,pad=0.2')\n",
    "fig.text(0.15,0.78, r\"\\textbf{\\large a}\", fontweight='bold', fontsize=11, bbox=labelbox)\n",
    "fig.text(0.6,0.78, r\"\\textbf{\\large b}\", fontweight='bold', fontsize=11, bbox=labelbox)\n",
    "fig.text(0.15,0.42, r\"\\textbf{\\large c}\", fontweight='bold', fontsize=11, bbox=labelbox)\n",
    "fig.text(0.15,0.085, r\"\\textbf{\\large d}\", fontweight='bold', fontsize=11, bbox=labelbox)\n",
    "\n",
    "fig.savefig('figures/bulk-static-rnd.pdf')\n",
    "fig.savefig('figures/bulk-static-rnd.svg')"
   ]
  },
  {
   "cell_type": "code",
   "execution_count": 17,
   "id": "1eb01603-407b-49a4-b1cf-58d1c17bbbce",
   "metadata": {},
   "outputs": [],
   "source": [
    "fig, ax = plt.subplot_mosaic(\n",
    "    \"\"\"\n",
    "    A\n",
    "    B\n",
    "    \"\"\"\n",
    "    ,figsize=(5,3.5),sharex=True,\n",
    "    constrained_layout=True)\n",
    "\n",
    "# ax[\"A\"].fill_between(bulk_tcorr_pet3rnd[:,0]/1000, \n",
    "#                      bulk_tcorr_pet3rnd[:,1]-2*bulk_tcorr_pet3rnd[:,2],\n",
    "#                      bulk_tcorr_pet3rnd[:,1]+2*bulk_tcorr_pet3rnd[:,2],\n",
    "#                      color=red, edgecolor='none', alpha=0.5)\n",
    "# ax[\"A\"].fill_between(bulk_tcorr_pet32i[:,0]/1000, \n",
    "#                      bulk_tcorr_pet32i[:,1]-2*bulk_tcorr_pet32i[:,2],\n",
    "#                      bulk_tcorr_pet32i[:,1]+2*bulk_tcorr_pet32i[:,2],\n",
    "#                      color=extra, edgecolor='none', alpha=0.5)\n",
    "\n",
    "ax[\"A\"].plot(bulk_tcorr_pet3rnd[:,0]/1000, bulk_tcorr_pet3rnd[:,1], label=\"PET, rnd\", color=red, linewidth=4)\n",
    "ax[\"A\"].plot(bulk_tcorr_pet32i[:,0]/1000, bulk_tcorr_pet32i[:,1], label=r\"PET, 2i avg.\", color=blue, linestyle=\"dashed\", linewidth=1.5)\n",
    "#ax[\"A\"].set_xlabel(r\"$t$ / ps\")\n",
    "ax[\"A\"].set_ylabel(r\"MSD$(t)$ (\\AA$^2$)\")\n",
    "ax[\"A\"].set_xlim(0,5)\n",
    "ax[\"A\"].legend()\n",
    "\n",
    "# ax[\"B\"].fill_between(bulk_tcorr_pet3rnd[:,0]/1000, \n",
    "#                      bulk_tcorr_pet3rnd[:,3]-2*bulk_tcorr_pet3rnd[:,4],\n",
    "#                      bulk_tcorr_pet3rnd[:,3]+2*bulk_tcorr_pet3rnd[:,4],\n",
    "#                      color=red, edgecolor='none', alpha=0.5)\n",
    "# ax[\"B\"].fill_between(bulk_tcorr_pet32i[:,0]/1000, \n",
    "#                      bulk_tcorr_pet32i[:,3]-2*bulk_tcorr_pet32i[:,4],\n",
    "#                      bulk_tcorr_pet32i[:,3]+2*bulk_tcorr_pet32i[:,4],\n",
    "#                      color=extra, edgecolor='none', alpha=0.5)\n",
    "\n",
    "ax[\"B\"].plot(bulk_tcorr_pet3rnd[:,0]/1000, bulk_tcorr_pet3rnd[:,3], label=\"PET, rnd\", color=red, linewidth=4)\n",
    "ax[\"B\"].plot(bulk_tcorr_pet32i[:,0]/1000, bulk_tcorr_pet32i[:,3], label=r\"PET, 2i avg.\", color=blue, linestyle=\"dashed\", linewidth=1.5)\n",
    "ax[\"B\"].set_xlabel(r\"$t$ (ps)\")\n",
    "ax[\"B\"].set_ylabel(r\"$c_{\\mathbf{uu}}(t)$\")\n",
    "ax[\"B\"].set_xlim(0,10)\n",
    "ax[\"B\"].set_ylim(-0.05,1.05)\n",
    "#ax[\"B\"].legend()\n",
    "\n",
    "fig.savefig('figures/bulk-dyn-rnd.pdf')\n",
    "fig.savefig('figures/bulk-dyn-rnd.svg')"
   ]
  },
  {
   "cell_type": "markdown",
   "id": "b6be65df-47f6-4a67-9c01-3932d7f58295",
   "metadata": {},
   "source": [
    "# ECons stability"
   ]
  },
  {
   "cell_type": "code",
   "execution_count": 18,
   "id": "a59862e6-11f4-457d-9aa3-56b5947c9af8",
   "metadata": {},
   "outputs": [],
   "source": [
    "bulk_nvt_out, _ = ipi.read_output(\"data/nvt.out\")\n",
    "bulk_nvt_mts, _ = ipi.read_output(\"data/mts-md.out\")\n",
    "bulk_nvt_rnd, _ = ipi.read_output(\"data/nvt-rndaug.out\")"
   ]
  },
  {
   "cell_type": "code",
   "execution_count": 19,
   "id": "9a187c84-51ec-4468-93d0-6b4aebbca63a",
   "metadata": {},
   "outputs": [],
   "source": [
    "fig, ax = plt.subplot_mosaic(\n",
    "    \"\"\"\n",
    "    A\n",
    "    \"\"\"\n",
    "    ,figsize=(5,3.5),sharex=True,\n",
    "    constrained_layout=True)\n",
    "\n",
    "au2ps=2.4188843e-05\n",
    "ha2evmol=27.211386/512\n",
    "e0= bulk_nvt_out['conserved'][0]\n",
    "ax[\"A\"].plot(bulk_nvt_out[\"time\"][::100]*au2ps, \n",
    "             (bulk_nvt_out['conserved'][::100]-e0)*ha2evmol, label=\"PET\", color='k', linewidth=1.5)\n",
    "ax[\"A\"].plot(bulk_nvt_mts[\"time\"][::100]*au2ps, \n",
    "             (bulk_nvt_mts['conserved'][::100]-e0)*ha2evmol, label=\"PET, MTS\", color=red, linewidth=1.5)\n",
    "ax[\"A\"].plot(bulk_nvt_rnd[\"time\"][::100]*au2ps, \n",
    "             (bulk_nvt_rnd['conserved'][::100]-e0)*ha2evmol, label=\"PET, rnd.\", color=extra, linewidth=1.5)\n",
    "ax[\"A\"].set_xlabel(r\"$t$ (ps)\")\n",
    "ax[\"A\"].set_ylabel(r\"$E_{\\mathrm{cns.}}$ (eV/H$_2$O)\")\n",
    "ax[\"A\"].set_xlim(-10,500)\n",
    "ax[\"A\"].set_ylim(-2e-4,1e-2)\n",
    "ax[\"A\"].legend()\n",
    "\n",
    "fig.savefig('figures/econs-drift.pdf')\n",
    "fig.savefig('figures/econs-drift.svg')"
   ]
  },
  {
   "cell_type": "markdown",
   "id": "521e9a77-af00-4143-b397-03c0149b9c62",
   "metadata": {},
   "source": [
    "# Test errors"
   ]
  },
  {
   "cell_type": "code",
   "execution_count": 20,
   "id": "68d5f946-1ce8-4232-95b8-21c4aa1bbc86",
   "metadata": {},
   "outputs": [],
   "source": [
    "augs = {\"0\":1, \"i\": 2, \"2\" : 18, \"2i\": 36, \"3\" : 75} #, \"3i\": 150}\n",
    "\n",
    "ref_frames = ase.io.read(\"data/test_errors/water_test.xyz\", \":\")\n",
    "ref_nrg = np.array([r.info[\"energy\"] for r in ref_frames])\n",
    "ref_nrg -= ref_nrg.mean() # rebase because we don't have per-atom energies in the predictions\n",
    "\n",
    "ref_frc = np.array([r.arrays[\"forces\"] for r in ref_frames])"
   ]
  },
  {
   "cell_type": "code",
   "execution_count": 21,
   "id": "d19b91a2-0c06-4408-a935-696fb609cb68",
   "metadata": {},
   "outputs": [],
   "source": [
    "outs, _ = ipi.read_output(\"data/test_errors/test-multi.delta\")\n",
    "y_pred = ha2ev*outs[\"pot_component_raw(0)\"][1:] # rebase and convert to eV\n",
    "y_pred -= y_pred.mean() "
   ]
  },
  {
   "cell_type": "code",
   "execution_count": 22,
   "id": "5a391906-6388-406e-8f1b-c505b19ae004",
   "metadata": {},
   "outputs": [
    {
     "name": "stdout",
     "output_type": "stream",
     "text": [
      "MAE:  0.07404487447095168 eV\n",
      "RMSE: 0.16713557527202394 eV\n"
     ]
    }
   ],
   "source": [
    "# test set energy errors\n",
    "print(f\"MAE:  {np.abs((ref_nrg-y_pred)).mean()} eV\")\n",
    "print(f\"RMSE: {np.sqrt(((ref_nrg-y_pred)**2).mean())} eV\")"
   ]
  },
  {
   "cell_type": "code",
   "execution_count": 23,
   "id": "928ba5e5-b6d8-45cf-8f7f-6e9131406f83",
   "metadata": {},
   "outputs": [],
   "source": [
    "y_grads = []\n",
    "\n",
    "for f in [\"for_0\", \"f-aug-i\", \"f-aug-2\", \"f-aug-2i\", \"f-aug-3\", \"f-aug-3i\"]:\n",
    "    data = ase.io.read(f\"data/test_errors/test-multi.{f}.extxyz\", \":\")\n",
    "    y_grads.append(np.array([\n",
    "        (d.arrays[\"forces\"] if \"forces\" in d.arrays else d.arrays[\"forces_component_raw\"] )       \n",
    "        for d in data[1:]]\n",
    "        ))\n",
    "\n",
    "y_grads = np.array(y_grads)"
   ]
  },
  {
   "cell_type": "code",
   "execution_count": 24,
   "id": "02e3b530-2602-4c1c-b745-4afa485b1e6a",
   "metadata": {},
   "outputs": [
    {
     "name": "stdout",
     "output_type": "stream",
     "text": [
      "MAE:  0.016550362382584064 eV/Å\n",
      "RMSE: 0.05963910180709037 eV/Å\n"
     ]
    }
   ],
   "source": [
    "# test set force errors\n",
    "print(f\"MAE:  {np.mean(np.abs(y_grads[0] - ref_frc))} eV/Å\")\n",
    "print(f\"RMSE: {np.sqrt((np.abs(y_grads[0] - ref_frc)**2).mean())} eV/Å\")"
   ]
  },
  {
   "cell_type": "markdown",
   "id": "47269994-1bbb-4d00-9011-d449534e1189",
   "metadata": {},
   "source": [
    "Rotational error and its convergence"
   ]
  },
  {
   "cell_type": "code",
   "execution_count": 107,
   "id": "958fb96f-d3ef-465b-852c-17e652798c54",
   "metadata": {},
   "outputs": [],
   "source": [
    "rmae = []\n",
    "for i in range(5):\n",
    "    delta = (outs[f\"pot_component_raw({i})\"] - outs[\"pot_component_raw(5)\"])[1:]    \n",
    "    rmae.append(np.abs(delta).mean()*ha2ev)\n",
    "rmae = np.array(rmae)"
   ]
  },
  {
   "cell_type": "code",
   "execution_count": 108,
   "id": "4725c0f3-2a14-454f-a420-8f7ccadb2191",
   "metadata": {},
   "outputs": [],
   "source": [
    "fmae = []\n",
    "for i in range(5):\n",
    "    delta = (y_grads[i] - y_grads[5])\n",
    "    fmae.append(np.abs(delta).mean())\n",
    "fmae = np.array(fmae)"
   ]
  },
  {
   "cell_type": "code",
   "execution_count": 109,
   "id": "6b15e835-aa38-487e-b06e-1f30034ad7f0",
   "metadata": {},
   "outputs": [
    {
     "name": "stdout",
     "output_type": "stream",
     "text": [
      "Erot MAE: 0.0050854090594602925 eV\n",
      "Frot MAE: 0.002035232908534357 eV/Å\n"
     ]
    },
    {
     "data": {
      "text/plain": [
       "[<matplotlib.lines.Line2D at 0x3874dfd60>]"
      ]
     },
     "execution_count": 109,
     "metadata": {},
     "output_type": "execute_result"
    },
    {
     "data": {
      "image/png": "[encoded data removed]",
      "text/plain": [
       "<Figure size 640x480 with 1 Axes>"
      ]
     },
     "metadata": {},
     "output_type": "display_data"
    }
   ],
   "source": [
    "print(f\"Erot MAE: {rmae[0]} eV\")\n",
    "print(f\"Frot MAE: {fmae[0]} eV/Å\")\n",
    "plt.plot(rmae)\n",
    "plt.plot(fmae)"
   ]
  },
  {
   "cell_type": "code",
   "execution_count": 110,
   "id": "bc870182-39a6-4480-9f94-46d0c339b436",
   "metadata": {},
   "outputs": [
    {
     "data": {
      "image/png": "[encoded data removed]",
      "text/plain": [
       "<Figure size 500x350 with 1 Axes>"
      ]
     },
     "metadata": {},
     "output_type": "display_data"
    }
   ],
   "source": [
    "fig, ax = plt.subplot_mosaic(\n",
    "    \"\"\"\n",
    "    A\n",
    "    \"\"\"\n",
    "    ,figsize=(5,3.5),sharex=True,\n",
    "    constrained_layout=True)\n",
    "\n",
    "ax[\"A\"].loglog([augs[a] for a in augs], 1e3*rmae, 'k--*')\n",
    "ax[\"A\"].set_ylabel(r\"$\\langle|E_\\mathrm{PET}-E_\\mathrm{3i}|\\rangle$ (meV)\", labelpad=0)\n",
    "ax[\"A\"].set_xlabel(r\"Averaging grid\", labelpad=0)\n",
    "ax[\"A\"].set_xticks(list(augs.values()))\n",
    "ax[\"A\"].set_xticklabels([r\"$\\mathrm{\" + k + r\"}$\" for k in list(augs.keys())])\n",
    "ax[\"A\"].xaxis.set_minor_locator(plt.NullLocator())\n",
    "ax[\"A\"].yaxis.set_major_locator(plt.LogLocator(base=10.0, subs=[0.1, 0.2, 0.5, 1, 2, 5]))\n",
    "ax[\"A\"].yaxis.set_major_formatter(plt.FormatStrFormatter('%g'))\n",
    "\n",
    "\n",
    "fig.savefig('figures/erot-test.pdf')\n",
    "fig.savefig('figures/erot-test.svg')"
   ]
  },
  {
   "cell_type": "markdown",
   "id": "8702e55c-bc16-4956-849b-42318e763f6a",
   "metadata": {},
   "source": [
    "## Comparison of convergence for various setups"
   ]
  },
  {
   "cell_type": "code",
   "execution_count": 111,
   "id": "3f704316-3721-4397-bfbd-c51da73b7f2d",
   "metadata": {},
   "outputs": [],
   "source": [
    "# MD bulk\n",
    "y_grads = []\n",
    "\n",
    "for f in [\"for_0\", \"f-aug-i\", \"f-aug-2\", \"f-aug-2i\", \"f-aug-3\", \"f-aug-3i\"]:\n",
    "    data = ase.io.read(f\"data/nvt_errors/test-multi.{f}.extxyz\", \":\")\n",
    "    y_grads.append(np.array([\n",
    "        (d.arrays[\"forces\"] if \"forces\" in d.arrays else d.arrays[\"forces_component_raw\"] )       \n",
    "        for d in data[1:]]\n",
    "        ))\n",
    "\n",
    "y_grads = np.array(y_grads)\n",
    "\n",
    "fmae_md = []\n",
    "for i in range(5):\n",
    "    delta = (y_grads[i] - y_grads[5])\n",
    "    fmae_md.append(np.abs(delta).mean())\n",
    "fmae_md = np.array(fmae_md)\n",
    "\n",
    "\n",
    "outs, _ = ipi.read_output(\"data/nvt_errors/test-multi.delta\")\n",
    "y_pred = ha2ev*outs[\"pot_component_raw(0)\"][1:] # rebase and convert to eV\n",
    "y_pred -= y_pred.mean() \n",
    "\n",
    "rmae_md = []\n",
    "for i in range(5):\n",
    "    delta = (outs[f\"pot_component_raw({i})\"] - outs[\"pot_component_raw(5)\"])[1:]    \n",
    "    rmae_md.append(np.abs(delta).mean()*ha2ev)\n",
    "rmae_md = np.array(rmae_md)"
   ]
  },
  {
   "cell_type": "code",
   "execution_count": 112,
   "id": "68953214-5962-4010-87ee-72f387b275e4",
   "metadata": {},
   "outputs": [],
   "source": [
    "# MD mol\n",
    "y_grads = []\n",
    "\n",
    "for f in [\"for_0\", \"f-aug-i\", \"f-aug-2\", \"f-aug-2i\", \"f-aug-3\", \"f-aug-3i\"]:\n",
    "    data = ase.io.read(f\"data/mol_errors/test-multi.{f}.extxyz\", \":\")\n",
    "    y_grads.append(np.array([\n",
    "        (d.arrays[\"forces\"] if \"forces\" in d.arrays else d.arrays[\"forces_component_raw\"] )       \n",
    "        for d in data[1:400]]\n",
    "        ))\n",
    "\n",
    "y_grads = np.array(y_grads)\n",
    "\n",
    "fmae_mol = []\n",
    "for i in range(5):\n",
    "    delta = (y_grads[i] - y_grads[5])\n",
    "    fmae_mol.append(np.abs(delta).mean())\n",
    "fmae_mol = np.array(fmae_mol)\n",
    "\n",
    "outs, _ = ipi.read_output(\"data/mol_errors/test-multi.delta\")\n",
    "y_pred = ha2ev*outs[\"pot_component_raw(0)\"][1:] # rebase and convert to eV\n",
    "y_pred -= y_pred.mean() \n",
    "\n",
    "rmae_mol = []\n",
    "for i in range(5):\n",
    "    delta = (outs[f\"pot_component_raw({i})\"] - outs[\"pot_component_raw(5)\"])[1:]    \n",
    "    rmae_mol.append(np.abs(delta).mean()*ha2ev)\n",
    "rmae_mol = np.array(rmae_mol)"
   ]
  },
  {
   "cell_type": "code",
   "execution_count": 113,
   "id": "b1b3d6c9-0dd6-49cf-b712-1322d397a261",
   "metadata": {},
   "outputs": [
    {
     "name": "stdout",
     "output_type": "stream",
     "text": [
      "Erot MAE NVT: 0.007938264481521339 eV\n",
      "Frot MAE NVT: 0.0012142243888373216 eV/Å\n",
      "Erot MAE mol: 0.0028218047825999174 eV\n",
      "Frot MAE mol: 0.0117656494096352 eV/Å\n"
     ]
    }
   ],
   "source": [
    "print(f\"Erot MAE NVT: {rmae_md[0]} eV\")\n",
    "print(f\"Frot MAE NVT: {fmae_md[0]} eV/Å\")\n",
    "print(f\"Erot MAE mol: {rmae_mol[0]} eV\")\n",
    "print(f\"Frot MAE mol: {fmae_mol[0]} eV/Å\")"
   ]
  },
  {
   "cell_type": "code",
   "execution_count": 114,
   "id": "55a99a97-d5ed-4e98-a34d-d9a5f0e367dd",
   "metadata": {},
   "outputs": [
    {
     "data": {
      "image/png": "[encoded data removed]",
      "text/plain": [
       "<Figure size 500x350 with 1 Axes>"
      ]
     },
     "metadata": {},
     "output_type": "display_data"
    }
   ],
   "source": [
    "fig, ax = plt.subplot_mosaic(\n",
    "    \"\"\"\n",
    "    A\n",
    "    \"\"\"\n",
    "    ,figsize=(5,3.5),sharex=True,\n",
    "    constrained_layout=True)\n",
    "\n",
    "ax[\"A\"].loglog([augs[a] for a in augs], 1e3*fmae, 'k:*', label=\"test set\")\n",
    "ax[\"A\"].loglog([augs[a] for a in augs], 1e3*fmae_md, ':o', color=red, label=\"bulk MD\")\n",
    "ax[\"A\"].loglog([augs[a] for a in augs], 1e3*fmae_mol, ':.', color=extra, label=\"mol. MD\")\n",
    "ax[\"A\"].set_ylabel(r\"$\\langle|f_\\mathrm{grid}-f_\\mathrm{3i}|\\rangle$ (meV/Å)\", labelpad=0)\n",
    "ax[\"A\"].set_xlabel(r\"Averaging grid\", labelpad=0)\n",
    "ax[\"A\"].set_xticks(list(augs.values()))\n",
    "ax[\"A\"].set_xticklabels([r\"$\\mathrm{\" + k + r\"}$\" for k in list(augs.keys())])\n",
    "ax[\"A\"].xaxis.set_minor_locator(plt.NullLocator())\n",
    "ax[\"A\"].yaxis.set_major_locator(plt.LogLocator(base=10.0, subs=[0.1, 0.2, 0.5, 1, 2, 5]))\n",
    "ax[\"A\"].yaxis.set_major_formatter(plt.FormatStrFormatter('%g'))\n",
    "ax[\"A\"].legend()\n",
    "\n",
    "fig.savefig('figures/frot-comparison.pdf')\n",
    "fig.savefig('figures/frot-comparison.svg')"
   ]
  },
  {
   "cell_type": "markdown",
   "id": "00952aed-c985-408c-b938-0c4b6b1003b3",
   "metadata": {},
   "source": [
    "# Ice convergence"
   ]
  },
  {
   "cell_type": "code",
   "execution_count": 115,
   "id": "9352a797-f4bf-4c12-a6ef-94718f70d35d",
   "metadata": {},
   "outputs": [],
   "source": [
    "# Define the dtype to read the file\n",
    "dtype = [('struct', 'U2'), ('aug', 'U2'), ('start', 'f8'), ('relax', 'f8')]\n",
    "\n",
    "# Load the data\n",
    "ice_pet_base = np.loadtxt('data/base-nrg.dat', dtype=dtype)\n",
    "ice_pet_fine = np.loadtxt('data/pet_3_2_w_100_lr_1e-5-nrg.dat', dtype=dtype)\n",
    "\n",
    "nat = np.array([288, 288, 288, 576, 576, 1080, 1296, 1080, 2304])[:6]"
   ]
  },
  {
   "cell_type": "code",
   "execution_count": 116,
   "id": "1aff360b-3519-4b53-8d06-f85de1d0b029",
   "metadata": {},
   "outputs": [],
   "source": [
    "ha2ev = 27.211386"
   ]
  },
  {
   "cell_type": "markdown",
   "id": "957455ba-d2e3-421d-bff4-8f66d0911451",
   "metadata": {},
   "source": [
    "symmetry error on starting configurations"
   ]
  },
  {
   "cell_type": "code",
   "execution_count": 117,
   "id": "e089a1ce-e3ad-44bb-b9f0-7f58231ec793",
   "metadata": {},
   "outputs": [
    {
     "data": {
      "text/plain": [
       "1.4480409931792377e-05"
      ]
     },
     "execution_count": 117,
     "metadata": {},
     "output_type": "execute_result"
    }
   ],
   "source": [
    "ha2ev*np.mean(np.abs(ice_pet_base[np.where(ice_pet_base['aug']==['1'])]['start'] - ice_pet_base[np.where(ice_pet_base['aug']==['4'])]['start'])/nat)"
   ]
  },
  {
   "cell_type": "code",
   "execution_count": 118,
   "id": "3efbd6d9-3354-48ad-a22f-65b748f8bafb",
   "metadata": {},
   "outputs": [
    {
     "data": {
      "text/plain": [
       "1.1755864659430125e-05"
      ]
     },
     "execution_count": 118,
     "metadata": {},
     "output_type": "execute_result"
    }
   ],
   "source": [
    "ha2ev*np.mean(np.abs(ice_pet_fine[np.where(ice_pet_fine['aug']==['1'])]['start'] - ice_pet_fine[np.where(ice_pet_fine['aug']==['4'])]['start'])/nat)"
   ]
  },
  {
   "cell_type": "markdown",
   "id": "6933733c-866c-45d0-8fc4-28b7f7a4d2bb",
   "metadata": {},
   "source": [
    "symmetry error on relaxed configs"
   ]
  },
  {
   "cell_type": "code",
   "execution_count": 119,
   "id": "9b062b16-2742-455b-92cc-e63998f147fa",
   "metadata": {},
   "outputs": [
    {
     "data": {
      "text/plain": [
       "1.2436647974890855e-05"
      ]
     },
     "execution_count": 119,
     "metadata": {},
     "output_type": "execute_result"
    }
   ],
   "source": [
    "ha2ev*np.mean(np.abs(ice_pet_base[np.where(ice_pet_base['aug']==['1'])]['relax'] - ice_pet_base[np.where(ice_pet_base['aug']==['4'])]['relax'])/nat)"
   ]
  },
  {
   "cell_type": "code",
   "execution_count": 120,
   "id": "56b01c15-0f41-442e-8e69-7a47744a8265",
   "metadata": {},
   "outputs": [
    {
     "data": {
      "text/plain": [
       "9.978075103879669e-06"
      ]
     },
     "execution_count": 120,
     "metadata": {},
     "output_type": "execute_result"
    }
   ],
   "source": [
    "ha2ev*np.mean(np.abs(ice_pet_fine[np.where(ice_pet_fine['aug']==['1'])]['relax'] - ice_pet_fine[np.where(ice_pet_fine['aug']==['4'])]['relax'])/nat)"
   ]
  },
  {
   "cell_type": "markdown",
   "id": "5ff6670d-3ea5-4937-8524-93c14cfcb673",
   "metadata": {},
   "source": [
    "symmetry error on relaxation energy"
   ]
  },
  {
   "cell_type": "code",
   "execution_count": 121,
   "id": "3eadee18-44df-4f5d-b4b8-bb0d4670bd66",
   "metadata": {},
   "outputs": [
    {
     "data": {
      "text/plain": [
       "2.1939914837866067e-06"
      ]
     },
     "execution_count": 121,
     "metadata": {},
     "output_type": "execute_result"
    }
   ],
   "source": [
    "ha2ev*np.mean(np.abs(\n",
    "    (ice_pet_base[np.where(ice_pet_base['aug']==['1'])]['relax'] - ice_pet_base[np.where(ice_pet_base['aug']==['1'])]['start'])\n",
    "    - \n",
    "    (ice_pet_base[np.where(ice_pet_base['aug']==['4'])]['relax'] - ice_pet_base[np.where(ice_pet_base['aug']==['4'])]['start'])\n",
    ")/nat)"
   ]
  },
  {
   "cell_type": "code",
   "execution_count": 122,
   "id": "e49c8d4c-173d-46f7-93de-bee03dda7e37",
   "metadata": {},
   "outputs": [
    {
     "data": {
      "text/plain": [
       "2.0294318867331755e-06"
      ]
     },
     "execution_count": 122,
     "metadata": {},
     "output_type": "execute_result"
    }
   ],
   "source": [
    "ha2ev*np.mean(np.abs(\n",
    "    (ice_pet_fine[np.where(ice_pet_fine['aug']==['1'])]['relax'] - ice_pet_fine[np.where(ice_pet_fine['aug']==['1'])]['start'])\n",
    "    - \n",
    "    (ice_pet_fine[np.where(ice_pet_fine['aug']==['4'])]['relax'] - ice_pet_fine[np.where(ice_pet_fine['aug']==['4'])]['start'])\n",
    ")/nat)"
   ]
  },
  {
   "cell_type": "code",
   "execution_count": 123,
   "id": "4db8c337-6098-4d52-acc6-f7416c6b65b7",
   "metadata": {},
   "outputs": [],
   "source": [
    "augs = {\"1\":1, \"i\": 2, \"2\" : 18, \"2i\": 36, \"3\" : 75, \"3i\": 150} # \"label\" : n_rotations"
   ]
  },
  {
   "cell_type": "code",
   "execution_count": 124,
   "id": "ce45cb08-7757-4524-a2c7-ebed7b9095a9",
   "metadata": {},
   "outputs": [],
   "source": [
    "dv_base = np.zeros((len(augs), len(nat)))\n",
    "dv_fine = np.zeros((len(augs), len(nat)))\n",
    "for i, a in enumerate(augs):\n",
    "    dv_base[i] = ice_pet_base[np.where(ice_pet_base['aug']==a)]['start']-ice_pet_base[np.where(ice_pet_base['aug']==\"4\")]['start']\n",
    "    dv_fine[i] = ice_pet_fine[np.where(ice_pet_fine['aug']==a)]['start']-ice_pet_fine[np.where(ice_pet_fine['aug']==\"4\")]['start']"
   ]
  },
  {
   "cell_type": "code",
   "execution_count": 125,
   "id": "04ade449-51b8-43c6-9afe-d8caefdce6b6",
   "metadata": {},
   "outputs": [
    {
     "data": {
      "image/png": "[encoded data removed]",
      "text/plain": [
       "<Figure size 640x480 with 1 Axes>"
      ]
     },
     "metadata": {},
     "output_type": "display_data"
    }
   ],
   "source": [
    "for i in range(len(nat)):\n",
    "    plt.loglog(list(augs.values()), np.abs(dv_base[:,i])/nat[i])\n",
    "    plt.loglog(list(augs.values()), np.abs(dv_fine[:,i])/nat[i], '--')"
   ]
  }
 ],
 "metadata": {
  "kernelspec": {
   "display_name": "Python 3 (ipykernel)",
   "language": "python",
   "name": "python3"
  },
  "language_info": {
   "codemirror_mode": {
    "name": "ipython",
    "version": 3
   },
   "file_extension": ".py",
   "mimetype": "text/x-python",
   "name": "python",
   "nbconvert_exporter": "python",
   "pygments_lexer": "ipython3",
   "version": "3.12.3"
  }
 },
 "nbformat": 4,
 "nbformat_minor": 5
}
